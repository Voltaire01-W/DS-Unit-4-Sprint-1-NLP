{
 "cells": [
  {
   "cell_type": "markdown",
   "metadata": {},
   "source": [
    "<img align=\"left\" src=\"https://lever-client-logos.s3.amazonaws.com/864372b1-534c-480e-acd5-9711f850815c-1524247202159.png\" width=200>\n",
    "<br></br>\n",
    "<br></br>\n",
    "\n",
    "# Natural Language Processing (NLP)\n",
    "## *Data Science Unit 4 Sprint 1 Assignment 1*\n",
    "\n",
    "Your goal in this assignment: find the attributes of the best & worst coffee shops in the dataset. The text is fairly raw: dates in the review, extra words in the `star_rating` column, etc. You'll probably want to clean that stuff up for a better analysis. \n",
    "\n",
    "Analyze the corpus of text using text visualizations of token frequency. Try cleaning the data as much as possible. Try the following techniques: \n",
    "- Lemmatization\n",
    "- Custom stopword removal\n",
    "\n",
    "Keep in mind the attributes of good tokens. Once you have a solid baseline, layer in the star rating in your visualization(s). Key part of this assignment - produce a write-up of the attributes of the best and worst coffee shops. Based on your analysis, what makes the best the best and the worst the worst. Use graphs and numbesr from your analysis to support your conclusions. There should be plenty of markdown cells! :coffee:"
   ]
  },
  {
   "cell_type": "code",
   "execution_count": 1,
   "metadata": {},
   "outputs": [
    {
     "data": {
      "image/jpeg": "[encoded data removed]",
      "text/html": [
       "\n",
       "        <iframe\n",
       "            width=\"400\"\n",
       "            height=\"300\"\n",
       "            src=\"https://www.youtube.com/embed/Jml7NVYm8cs\"\n",
       "            frameborder=\"0\"\n",
       "            allowfullscreen\n",
       "        ></iframe>\n",
       "        "
      ],
      "text/plain": [
       "<IPython.lib.display.YouTubeVideo at 0xa6cb9809b0>"
      ]
     },
     "execution_count": 1,
     "metadata": {},
     "output_type": "execute_result"
    }
   ],
   "source": [
    "from IPython.display import YouTubeVideo\n",
    "\n",
    "YouTubeVideo('Jml7NVYm8cs')"
   ]
  },
  {
   "cell_type": "code",
   "execution_count": 2,
   "metadata": {},
   "outputs": [
    {
     "data": {
      "text/plain": [
       "'C:\\\\Users\\\\Voltaire22\\\\Desktop\\\\DS-Unit-4-Sprint-1-NLP\\\\module1-text-data'"
      ]
     },
     "execution_count": 2,
     "metadata": {},
     "output_type": "execute_result"
    }
   ],
   "source": [
    "%pwd"
   ]
  },
  {
   "cell_type": "code",
   "execution_count": 3,
   "metadata": {},
   "outputs": [
    {
     "data": {
      "text/html": [
       "<div>\n",
       "<style scoped>\n",
       "    .dataframe tbody tr th:only-of-type {\n",
       "        vertical-align: middle;\n",
       "    }\n",
       "\n",
       "    .dataframe tbody tr th {\n",
       "        vertical-align: top;\n",
       "    }\n",
       "\n",
       "    .dataframe thead th {\n",
       "        text-align: right;\n",
       "    }\n",
       "</style>\n",
       "<table border=\"1\" class=\"dataframe\">\n",
       "  <thead>\n",
       "    <tr style=\"text-align: right;\">\n",
       "      <th></th>\n",
       "      <th>coffee_shop_name</th>\n",
       "      <th>full_review_text</th>\n",
       "      <th>star_rating</th>\n",
       "    </tr>\n",
       "  </thead>\n",
       "  <tbody>\n",
       "    <tr>\n",
       "      <th>0</th>\n",
       "      <td>The Factory - Cafe With a Soul</td>\n",
       "      <td>11/25/2016 1 check-in Love love loved the atm...</td>\n",
       "      <td>5.0 star rating</td>\n",
       "    </tr>\n",
       "    <tr>\n",
       "      <th>1</th>\n",
       "      <td>The Factory - Cafe With a Soul</td>\n",
       "      <td>12/2/2016 Listed in Date Night: Austin, Ambia...</td>\n",
       "      <td>4.0 star rating</td>\n",
       "    </tr>\n",
       "    <tr>\n",
       "      <th>2</th>\n",
       "      <td>The Factory - Cafe With a Soul</td>\n",
       "      <td>11/30/2016 1 check-in Listed in Brunch Spots ...</td>\n",
       "      <td>4.0 star rating</td>\n",
       "    </tr>\n",
       "    <tr>\n",
       "      <th>3</th>\n",
       "      <td>The Factory - Cafe With a Soul</td>\n",
       "      <td>11/25/2016 Very cool decor! Good drinks Nice ...</td>\n",
       "      <td>2.0 star rating</td>\n",
       "    </tr>\n",
       "    <tr>\n",
       "      <th>4</th>\n",
       "      <td>The Factory - Cafe With a Soul</td>\n",
       "      <td>12/3/2016 1 check-in They are located within ...</td>\n",
       "      <td>4.0 star rating</td>\n",
       "    </tr>\n",
       "  </tbody>\n",
       "</table>\n",
       "</div>"
      ],
      "text/plain": [
       "                  coffee_shop_name  \\\n",
       "0  The Factory - Cafe With a Soul    \n",
       "1  The Factory - Cafe With a Soul    \n",
       "2  The Factory - Cafe With a Soul    \n",
       "3  The Factory - Cafe With a Soul    \n",
       "4  The Factory - Cafe With a Soul    \n",
       "\n",
       "                                    full_review_text        star_rating  \n",
       "0   11/25/2016 1 check-in Love love loved the atm...   5.0 star rating   \n",
       "1   12/2/2016 Listed in Date Night: Austin, Ambia...   4.0 star rating   \n",
       "2   11/30/2016 1 check-in Listed in Brunch Spots ...   4.0 star rating   \n",
       "3   11/25/2016 Very cool decor! Good drinks Nice ...   2.0 star rating   \n",
       "4   12/3/2016 1 check-in They are located within ...   4.0 star rating   "
      ]
     },
     "execution_count": 3,
     "metadata": {},
     "output_type": "execute_result"
    }
   ],
   "source": [
    "import pandas as pd\n",
    "\n",
    "url = \"https://raw.githubusercontent.com/LambdaSchool/DS-Unit-4-Sprint-1-NLP/master/module1-text-data/data/yelp_coffeeshop_review_data.csv\"\n",
    "\n",
    "shops = pd.read_csv(url)\n",
    "shops.head()"
   ]
  },
  {
   "cell_type": "code",
   "execution_count": 4,
   "metadata": {},
   "outputs": [],
   "source": [
    "# imports\n",
    "\n",
    "# Base\n",
    "from collections import Counter\n",
    "import re\n",
    "\n",
    "# Plotting\n",
    "import squarify\n",
    "import matplotlib.pyplot as plt\n",
    "import seaborn as sns\n",
    "\n",
    "# NLP Libraries\n",
    "import spacy\n",
    "from spacy.tokenizer import Tokenizer\n",
    "\n",
    "nlp = spacy.load(\"en_core_web_lg\")"
   ]
  },
  {
   "cell_type": "code",
   "execution_count": 5,
   "metadata": {},
   "outputs": [],
   "source": [
    "def datesplitter(text):\n",
    "    '''takes the date off the beginning of the review, returns it.'''\n",
    "    stripped = text.strip(' ')\n",
    "    dateitem = stripped.split(' ')[0]\n",
    "    return dateitem\n",
    "\n",
    "def cleaner(text):\n",
    "    '''cleans the review text.'''\n",
    "    stripped = text.strip(' ')\n",
    "    review = ' '.join(stripped.split(' ')[1:])\n",
    "    lowered = review.lower()\n",
    "    dechecked = re.sub(r'(\\d+ check-ins?)', '', lowered)\n",
    "    cleaned = re.sub(r'[^a-zA-Z ^0-9]', '', dechecked)\n",
    "    despaced = cleaned.strip(' ')\n",
    "    return despaced\n",
    "\n",
    "tokenizer = Tokenizer(nlp.vocab)\n",
    "\n",
    "def lemmatize(text):\n",
    "    '''returns spaCy lemmas for a given text'''\n",
    "    lemmas = []\n",
    "    \n",
    "    doc = nlp(text)\n",
    "    \n",
    "    # Something goes here :P\n",
    "    for token in doc: \n",
    "        if ((token.is_stop == False) and (token.is_punct == False)) and (token.pos_!= 'PRON'):\n",
    "            lemmas.append(token.lemma_)\n",
    "    \n",
    "    return lemmas"
   ]
  },
  {
   "cell_type": "code",
   "execution_count": 6,
   "metadata": {},
   "outputs": [],
   "source": [
    "# add a date column\n",
    "shops['review_date'] = shops['full_review_text'].apply(datesplitter)\n",
    "\n",
    "# add a check-in column\n",
    "shops['check-ins'] = shops['full_review_text'].str.extract(r\"((\\d+) check-ins?)\")[1].astype('float').fillna(0)\n",
    "\n",
    "# clean the review text\n",
    "shops['clean_review_text'] = shops['full_review_text'].apply(cleaner)\n",
    "\n",
    "# remove leading/trailing spaces from shop names\n",
    "shops['coffee_shop_name'] = shops['coffee_shop_name'].apply(lambda x: x.strip(' '))\n",
    "\n",
    "#remove ' star rating' from ratings\n",
    "shops['star_rating'] = shops['star_rating'].apply(lambda x: int(x.strip('.0 star rating')))\n"
   ]
  },
  {
   "cell_type": "code",
   "execution_count": 7,
   "metadata": {
    "scrolled": true
   },
   "outputs": [
    {
     "data": {
      "text/html": [
       "<div>\n",
       "<style scoped>\n",
       "    .dataframe tbody tr th:only-of-type {\n",
       "        vertical-align: middle;\n",
       "    }\n",
       "\n",
       "    .dataframe tbody tr th {\n",
       "        vertical-align: top;\n",
       "    }\n",
       "\n",
       "    .dataframe thead th {\n",
       "        text-align: right;\n",
       "    }\n",
       "</style>\n",
       "<table border=\"1\" class=\"dataframe\">\n",
       "  <thead>\n",
       "    <tr style=\"text-align: right;\">\n",
       "      <th></th>\n",
       "      <th>coffee_shop_name</th>\n",
       "      <th>full_review_text</th>\n",
       "      <th>star_rating</th>\n",
       "      <th>review_date</th>\n",
       "      <th>check-ins</th>\n",
       "      <th>clean_review_text</th>\n",
       "    </tr>\n",
       "  </thead>\n",
       "  <tbody>\n",
       "    <tr>\n",
       "      <th>0</th>\n",
       "      <td>The Factory - Cafe With a Soul</td>\n",
       "      <td>11/25/2016 1 check-in Love love loved the atm...</td>\n",
       "      <td>5</td>\n",
       "      <td>11/25/2016</td>\n",
       "      <td>1.0</td>\n",
       "      <td>love love loved the atmosphere every corner of...</td>\n",
       "    </tr>\n",
       "    <tr>\n",
       "      <th>1</th>\n",
       "      <td>The Factory - Cafe With a Soul</td>\n",
       "      <td>12/2/2016 Listed in Date Night: Austin, Ambia...</td>\n",
       "      <td>4</td>\n",
       "      <td>12/2/2016</td>\n",
       "      <td>0.0</td>\n",
       "      <td>listed in date night austin ambiance in austin...</td>\n",
       "    </tr>\n",
       "    <tr>\n",
       "      <th>2</th>\n",
       "      <td>The Factory - Cafe With a Soul</td>\n",
       "      <td>11/30/2016 1 check-in Listed in Brunch Spots ...</td>\n",
       "      <td>4</td>\n",
       "      <td>11/30/2016</td>\n",
       "      <td>1.0</td>\n",
       "      <td>listed in brunch spots i loved the eclectic an...</td>\n",
       "    </tr>\n",
       "    <tr>\n",
       "      <th>3</th>\n",
       "      <td>The Factory - Cafe With a Soul</td>\n",
       "      <td>11/25/2016 Very cool decor! Good drinks Nice ...</td>\n",
       "      <td>2</td>\n",
       "      <td>11/25/2016</td>\n",
       "      <td>0.0</td>\n",
       "      <td>very cool decor good drinks nice seating  howe...</td>\n",
       "    </tr>\n",
       "    <tr>\n",
       "      <th>4</th>\n",
       "      <td>The Factory - Cafe With a Soul</td>\n",
       "      <td>12/3/2016 1 check-in They are located within ...</td>\n",
       "      <td>4</td>\n",
       "      <td>12/3/2016</td>\n",
       "      <td>1.0</td>\n",
       "      <td>they are located within the northcross mall sh...</td>\n",
       "    </tr>\n",
       "  </tbody>\n",
       "</table>\n",
       "</div>"
      ],
      "text/plain": [
       "                 coffee_shop_name  \\\n",
       "0  The Factory - Cafe With a Soul   \n",
       "1  The Factory - Cafe With a Soul   \n",
       "2  The Factory - Cafe With a Soul   \n",
       "3  The Factory - Cafe With a Soul   \n",
       "4  The Factory - Cafe With a Soul   \n",
       "\n",
       "                                    full_review_text  star_rating review_date  \\\n",
       "0   11/25/2016 1 check-in Love love loved the atm...            5  11/25/2016   \n",
       "1   12/2/2016 Listed in Date Night: Austin, Ambia...            4   12/2/2016   \n",
       "2   11/30/2016 1 check-in Listed in Brunch Spots ...            4  11/30/2016   \n",
       "3   11/25/2016 Very cool decor! Good drinks Nice ...            2  11/25/2016   \n",
       "4   12/3/2016 1 check-in They are located within ...            4   12/3/2016   \n",
       "\n",
       "   check-ins                                  clean_review_text  \n",
       "0        1.0  love love loved the atmosphere every corner of...  \n",
       "1        0.0  listed in date night austin ambiance in austin...  \n",
       "2        1.0  listed in brunch spots i loved the eclectic an...  \n",
       "3        0.0  very cool decor good drinks nice seating  howe...  \n",
       "4        1.0  they are located within the northcross mall sh...  "
      ]
     },
     "execution_count": 7,
     "metadata": {},
     "output_type": "execute_result"
    }
   ],
   "source": [
    "shops.head()"
   ]
  },
  {
   "cell_type": "code",
   "execution_count": 8,
   "metadata": {},
   "outputs": [],
   "source": [
    "custom_list = [' ','coffee','place']"
   ]
  },
  {
   "cell_type": "code",
   "execution_count": 9,
   "metadata": {},
   "outputs": [],
   "source": [
    "# Wrap it all in a function\n",
    "def lemmatize(text):\n",
    "\n",
    "    lemmas = []\n",
    "    \n",
    "    doc = nlp(text)\n",
    "    \n",
    "    for token in doc: \n",
    "        if ((token.is_stop == False) and (token.is_punct == False)) and (token.pos_!= 'PRON') and (token.text not in custom_list):\n",
    "            lemmas.append(token.lemma_)\n",
    "    \n",
    "    return lemmas"
   ]
  },
  {
   "cell_type": "code",
   "execution_count": 10,
   "metadata": {},
   "outputs": [],
   "source": [
    "shops['lemmas'] = shops['clean_review_text'].apply(lemmatize)"
   ]
  },
  {
   "cell_type": "code",
   "execution_count": 11,
   "metadata": {},
   "outputs": [
    {
     "data": {
      "text/plain": [
       "0    [love, love, love, atmosphere, corner, shop, s...\n",
       "1    [list, date, night, austin, ambiance, austin, ...\n",
       "2    [list, brunch, spot, love, eclectic, homey, pl...\n",
       "3    [cool, decor, good, drink, nice, seating, over...\n",
       "4    [locate, northcross, mall, shopping, center, f...\n",
       "Name: lemmas, dtype: object"
      ]
     },
     "execution_count": 11,
     "metadata": {},
     "output_type": "execute_result"
    }
   ],
   "source": [
    "shops['lemmas'].head()"
   ]
  },
  {
   "cell_type": "code",
   "execution_count": 12,
   "metadata": {},
   "outputs": [
    {
     "data": {
      "text/plain": [
       "[('good', 5387),\n",
       " ('not', 5175),\n",
       " ('great', 3946),\n",
       " ('like', 3351),\n",
       " ('come', 2636),\n",
       " ('love', 2375),\n",
       " ('time', 2367),\n",
       " ('drink', 2325),\n",
       " ('austin', 2252),\n",
       " ('shop', 2202)]"
      ]
     },
     "execution_count": 12,
     "metadata": {},
     "output_type": "execute_result"
    }
   ],
   "source": [
    "from collections import Counter\n",
    " \n",
    "word_counts = Counter()\n",
    "\n",
    "shops['lemmas'].apply(lambda x: word_counts.update(x))\n",
    "\n",
    "word_counts.most_common(10)"
   ]
  },
  {
   "cell_type": "code",
   "execution_count": 13,
   "metadata": {},
   "outputs": [],
   "source": [
    "def count(docs):\n",
    "\n",
    "        word_counts = Counter()\n",
    "        appears_in = Counter()\n",
    "        \n",
    "        total_docs = len(docs)\n",
    "\n",
    "        for doc in docs:\n",
    "            word_counts.update(doc)\n",
    "            appears_in.update(set(doc))\n",
    "\n",
    "        temp = zip(word_counts.keys(), word_counts.values())\n",
    "        \n",
    "        wc = pd.DataFrame(temp, columns = ['word', 'count'])\n",
    "\n",
    "        wc['rank'] = wc['count'].rank(method='first', ascending=False)\n",
    "        total = wc['count'].sum()\n",
    "\n",
    "        wc['pct_total'] = wc['count'].apply(lambda x: x / total)\n",
    "        \n",
    "        wc = wc.sort_values(by='rank')\n",
    "        wc['cul_pct_total'] = wc['pct_total'].cumsum()\n",
    "\n",
    "        t2 = zip(appears_in.keys(), appears_in.values())\n",
    "        ac = pd.DataFrame(t2, columns=['word', 'appears_in'])\n",
    "        wc = ac.merge(wc, on='word')\n",
    "\n",
    "        wc['appears_in_pct'] = wc['appears_in'].apply(lambda x: x / total_docs)\n",
    "        \n",
    "        return wc.sort_values(by='rank')"
   ]
  },
  {
   "cell_type": "code",
   "execution_count": 14,
   "metadata": {
    "scrolled": true
   },
   "outputs": [
    {
     "data": {
      "text/html": [
       "<div>\n",
       "<style scoped>\n",
       "    .dataframe tbody tr th:only-of-type {\n",
       "        vertical-align: middle;\n",
       "    }\n",
       "\n",
       "    .dataframe tbody tr th {\n",
       "        vertical-align: top;\n",
       "    }\n",
       "\n",
       "    .dataframe thead th {\n",
       "        text-align: right;\n",
       "    }\n",
       "</style>\n",
       "<table border=\"1\" class=\"dataframe\">\n",
       "  <thead>\n",
       "    <tr style=\"text-align: right;\">\n",
       "      <th></th>\n",
       "      <th>word</th>\n",
       "      <th>appears_in</th>\n",
       "      <th>count</th>\n",
       "      <th>rank</th>\n",
       "      <th>pct_total</th>\n",
       "      <th>cul_pct_total</th>\n",
       "      <th>appears_in_pct</th>\n",
       "    </tr>\n",
       "  </thead>\n",
       "  <tbody>\n",
       "    <tr>\n",
       "      <th>154</th>\n",
       "      <td>good</td>\n",
       "      <td>3590</td>\n",
       "      <td>5387</td>\n",
       "      <td>1.0</td>\n",
       "      <td>0.015524</td>\n",
       "      <td>0.015524</td>\n",
       "      <td>0.471376</td>\n",
       "    </tr>\n",
       "    <tr>\n",
       "      <th>100</th>\n",
       "      <td>not</td>\n",
       "      <td>3055</td>\n",
       "      <td>5175</td>\n",
       "      <td>2.0</td>\n",
       "      <td>0.014913</td>\n",
       "      <td>0.030438</td>\n",
       "      <td>0.401129</td>\n",
       "    </tr>\n",
       "    <tr>\n",
       "      <th>112</th>\n",
       "      <td>great</td>\n",
       "      <td>2853</td>\n",
       "      <td>3946</td>\n",
       "      <td>3.0</td>\n",
       "      <td>0.011372</td>\n",
       "      <td>0.041809</td>\n",
       "      <td>0.374606</td>\n",
       "    </tr>\n",
       "    <tr>\n",
       "      <th>133</th>\n",
       "      <td>like</td>\n",
       "      <td>2260</td>\n",
       "      <td>3351</td>\n",
       "      <td>4.0</td>\n",
       "      <td>0.009657</td>\n",
       "      <td>0.051466</td>\n",
       "      <td>0.296744</td>\n",
       "    </tr>\n",
       "    <tr>\n",
       "      <th>433</th>\n",
       "      <td>come</td>\n",
       "      <td>1935</td>\n",
       "      <td>2636</td>\n",
       "      <td>5.0</td>\n",
       "      <td>0.007596</td>\n",
       "      <td>0.059063</td>\n",
       "      <td>0.254070</td>\n",
       "    </tr>\n",
       "  </tbody>\n",
       "</table>\n",
       "</div>"
      ],
      "text/plain": [
       "      word  appears_in  count  rank  pct_total  cul_pct_total  appears_in_pct\n",
       "154   good        3590   5387   1.0   0.015524       0.015524        0.471376\n",
       "100    not        3055   5175   2.0   0.014913       0.030438        0.401129\n",
       "112  great        2853   3946   3.0   0.011372       0.041809        0.374606\n",
       "133   like        2260   3351   4.0   0.009657       0.051466        0.296744\n",
       "433   come        1935   2636   5.0   0.007596       0.059063        0.254070"
      ]
     },
     "execution_count": 14,
     "metadata": {},
     "output_type": "execute_result"
    }
   ],
   "source": [
    "# overall count\n",
    "wc_overall = count(shops['lemmas'])\n",
    "wc_overall.head()"
   ]
  },
  {
   "cell_type": "code",
   "execution_count": 15,
   "metadata": {},
   "outputs": [
    {
     "data": {
      "image/png": "[encoded data removed]",
      "text/plain": [
       "<Figure size 432x288 with 1 Axes>"
      ]
     },
     "metadata": {
      "needs_background": "light"
     },
     "output_type": "display_data"
    }
   ],
   "source": [
    "# plot overall\n",
    "wc_overall_top20 = wc_overall[wc_overall['rank'] <= 20]\n",
    "\n",
    "squarify.plot(sizes=wc_overall_top20['pct_total'], label=wc_overall_top20['word'], alpha=.8 )\n",
    "plt.axis('off')\n",
    "plt.show()"
   ]
  },
  {
   "cell_type": "code",
   "execution_count": 16,
   "metadata": {},
   "outputs": [
    {
     "data": {
      "text/html": [
       "<div>\n",
       "<style scoped>\n",
       "    .dataframe tbody tr th:only-of-type {\n",
       "        vertical-align: middle;\n",
       "    }\n",
       "\n",
       "    .dataframe tbody tr th {\n",
       "        vertical-align: top;\n",
       "    }\n",
       "\n",
       "    .dataframe thead th {\n",
       "        text-align: right;\n",
       "    }\n",
       "</style>\n",
       "<table border=\"1\" class=\"dataframe\">\n",
       "  <thead>\n",
       "    <tr style=\"text-align: right;\">\n",
       "      <th></th>\n",
       "      <th>word</th>\n",
       "      <th>appears_in</th>\n",
       "      <th>count</th>\n",
       "      <th>rank</th>\n",
       "      <th>pct_total</th>\n",
       "      <th>cul_pct_total</th>\n",
       "      <th>appears_in_pct</th>\n",
       "    </tr>\n",
       "  </thead>\n",
       "  <tbody>\n",
       "    <tr>\n",
       "      <th>105</th>\n",
       "      <td>not</td>\n",
       "      <td>868</td>\n",
       "      <td>1706</td>\n",
       "      <td>1.0</td>\n",
       "      <td>0.022094</td>\n",
       "      <td>0.022094</td>\n",
       "      <td>0.588076</td>\n",
       "    </tr>\n",
       "    <tr>\n",
       "      <th>27</th>\n",
       "      <td>good</td>\n",
       "      <td>648</td>\n",
       "      <td>1000</td>\n",
       "      <td>2.0</td>\n",
       "      <td>0.012951</td>\n",
       "      <td>0.035044</td>\n",
       "      <td>0.439024</td>\n",
       "    </tr>\n",
       "    <tr>\n",
       "      <th>1</th>\n",
       "      <td>like</td>\n",
       "      <td>592</td>\n",
       "      <td>937</td>\n",
       "      <td>3.0</td>\n",
       "      <td>0.012135</td>\n",
       "      <td>0.047179</td>\n",
       "      <td>0.401084</td>\n",
       "    </tr>\n",
       "    <tr>\n",
       "      <th>152</th>\n",
       "      <td>order</td>\n",
       "      <td>433</td>\n",
       "      <td>760</td>\n",
       "      <td>4.0</td>\n",
       "      <td>0.009842</td>\n",
       "      <td>0.057021</td>\n",
       "      <td>0.293360</td>\n",
       "    </tr>\n",
       "    <tr>\n",
       "      <th>132</th>\n",
       "      <td>come</td>\n",
       "      <td>452</td>\n",
       "      <td>650</td>\n",
       "      <td>5.0</td>\n",
       "      <td>0.008418</td>\n",
       "      <td>0.065439</td>\n",
       "      <td>0.306233</td>\n",
       "    </tr>\n",
       "  </tbody>\n",
       "</table>\n",
       "</div>"
      ],
      "text/plain": [
       "      word  appears_in  count  rank  pct_total  cul_pct_total  appears_in_pct\n",
       "105    not         868   1706   1.0   0.022094       0.022094        0.588076\n",
       "27    good         648   1000   2.0   0.012951       0.035044        0.439024\n",
       "1     like         592    937   3.0   0.012135       0.047179        0.401084\n",
       "152  order         433    760   4.0   0.009842       0.057021        0.293360\n",
       "132   come         452    650   5.0   0.008418       0.065439        0.306233"
      ]
     },
     "execution_count": 16,
     "metadata": {},
     "output_type": "execute_result"
    }
   ],
   "source": [
    "wc_bad = count(shops[(shops['star_rating'] <= 3)]['lemmas'])\n",
    "wc_bad.head()"
   ]
  },
  {
   "cell_type": "code",
   "execution_count": 17,
   "metadata": {},
   "outputs": [
    {
     "data": {
      "image/png": "[encoded data removed]",
      "text/plain": [
       "<Figure size 432x288 with 1 Axes>"
      ]
     },
     "metadata": {
      "needs_background": "light"
     },
     "output_type": "display_data"
    }
   ],
   "source": [
    "wc_bad_top20 = wc_bad[wc_bad['rank'] <= 20]\n",
    "\n",
    "squarify.plot(sizes=wc_bad_top20['pct_total'], label=wc_bad_top20['word'], alpha=.8 )\n",
    "plt.axis('off')\n",
    "plt.show()"
   ]
  },
  {
   "cell_type": "code",
   "execution_count": 18,
   "metadata": {},
   "outputs": [
    {
     "data": {
      "text/html": [
       "<div>\n",
       "<style scoped>\n",
       "    .dataframe tbody tr th:only-of-type {\n",
       "        vertical-align: middle;\n",
       "    }\n",
       "\n",
       "    .dataframe tbody tr th {\n",
       "        vertical-align: top;\n",
       "    }\n",
       "\n",
       "    .dataframe thead th {\n",
       "        text-align: right;\n",
       "    }\n",
       "</style>\n",
       "<table border=\"1\" class=\"dataframe\">\n",
       "  <thead>\n",
       "    <tr style=\"text-align: right;\">\n",
       "      <th></th>\n",
       "      <th>word</th>\n",
       "      <th>appears_in</th>\n",
       "      <th>count</th>\n",
       "      <th>rank</th>\n",
       "      <th>pct_total</th>\n",
       "      <th>cul_pct_total</th>\n",
       "      <th>appears_in_pct</th>\n",
       "    </tr>\n",
       "  </thead>\n",
       "  <tbody>\n",
       "    <tr>\n",
       "      <th>190</th>\n",
       "      <td>good</td>\n",
       "      <td>2942</td>\n",
       "      <td>4387</td>\n",
       "      <td>1.0</td>\n",
       "      <td>0.016261</td>\n",
       "      <td>0.016261</td>\n",
       "      <td>0.479153</td>\n",
       "    </tr>\n",
       "    <tr>\n",
       "      <th>112</th>\n",
       "      <td>great</td>\n",
       "      <td>2505</td>\n",
       "      <td>3474</td>\n",
       "      <td>2.0</td>\n",
       "      <td>0.012877</td>\n",
       "      <td>0.029138</td>\n",
       "      <td>0.407980</td>\n",
       "    </tr>\n",
       "    <tr>\n",
       "      <th>100</th>\n",
       "      <td>not</td>\n",
       "      <td>2187</td>\n",
       "      <td>3469</td>\n",
       "      <td>3.0</td>\n",
       "      <td>0.012858</td>\n",
       "      <td>0.041996</td>\n",
       "      <td>0.356189</td>\n",
       "    </tr>\n",
       "    <tr>\n",
       "      <th>163</th>\n",
       "      <td>like</td>\n",
       "      <td>1668</td>\n",
       "      <td>2414</td>\n",
       "      <td>4.0</td>\n",
       "      <td>0.008948</td>\n",
       "      <td>0.050944</td>\n",
       "      <td>0.271661</td>\n",
       "    </tr>\n",
       "    <tr>\n",
       "      <th>9</th>\n",
       "      <td>love</td>\n",
       "      <td>1608</td>\n",
       "      <td>2121</td>\n",
       "      <td>5.0</td>\n",
       "      <td>0.007862</td>\n",
       "      <td>0.058806</td>\n",
       "      <td>0.261889</td>\n",
       "    </tr>\n",
       "  </tbody>\n",
       "</table>\n",
       "</div>"
      ],
      "text/plain": [
       "      word  appears_in  count  rank  pct_total  cul_pct_total  appears_in_pct\n",
       "190   good        2942   4387   1.0   0.016261       0.016261        0.479153\n",
       "112  great        2505   3474   2.0   0.012877       0.029138        0.407980\n",
       "100    not        2187   3469   3.0   0.012858       0.041996        0.356189\n",
       "163   like        1668   2414   4.0   0.008948       0.050944        0.271661\n",
       "9     love        1608   2121   5.0   0.007862       0.058806        0.261889"
      ]
     },
     "execution_count": 18,
     "metadata": {},
     "output_type": "execute_result"
    }
   ],
   "source": [
    "wc_good = count(shops[(shops['star_rating'] >= 4)]['lemmas'])\n",
    "wc_good.head()"
   ]
  },
  {
   "cell_type": "code",
   "execution_count": 19,
   "metadata": {},
   "outputs": [
    {
     "data": {
      "image/png": "[encoded data removed]",
      "text/plain": [
       "<Figure size 432x288 with 1 Axes>"
      ]
     },
     "metadata": {
      "needs_background": "light"
     },
     "output_type": "display_data"
    }
   ],
   "source": [
    "wc_good_top20 = wc_good[wc_good['rank'] <= 20]\n",
    "\n",
    "squarify.plot(sizes=wc_good_top20['pct_total'], label=wc_good_top20['word'], alpha=.8 )\n",
    "plt.axis('off')\n",
    "plt.show()"
   ]
  },
  {
   "cell_type": "markdown",
   "metadata": {},
   "source": [
    "## Can visualize the words with the greatest difference in counts between 'good' & 'bad'?\n",
    "\n",
    "Couple Notes: \n",
    "- Rel. freq. instead of absolute counts b/c of different numbers of reviews\n",
    "- Only look at the top 5-10 words with the greatest differences\n"
   ]
  },
  {
   "cell_type": "code",
   "execution_count": 20,
   "metadata": {},
   "outputs": [],
   "source": [
    "wc_diffs = wc_good[['word', 'appears_in_pct']].copy()\n",
    "wc_diffs['appears_in_pct_good'] = wc_diffs['appears_in_pct']\n",
    "wc_diffs.drop(['appears_in_pct'], axis=1, inplace=True)\n",
    "\n",
    "wc_diffs = wc_diffs.merge(wc_bad[['word', 'appears_in_pct']], on='word', how='outer')\n",
    "wc_diffs['appears_in_pct_bad'] = wc_diffs['appears_in_pct']\n",
    "wc_diffs.drop(['appears_in_pct'], axis=1, inplace=True)\n",
    "wc_diffs['pct_dff'] = wc_diffs['appears_in_pct_good'] - wc_diffs['appears_in_pct_bad']\n",
    "wc_diffs['pct_dff_abs'] = abs(wc_diffs['pct_dff'])"
   ]
  },
  {
   "cell_type": "code",
   "execution_count": 21,
   "metadata": {},
   "outputs": [
    {
     "data": {
      "text/html": [
       "<div>\n",
       "<style scoped>\n",
       "    .dataframe tbody tr th:only-of-type {\n",
       "        vertical-align: middle;\n",
       "    }\n",
       "\n",
       "    .dataframe tbody tr th {\n",
       "        vertical-align: top;\n",
       "    }\n",
       "\n",
       "    .dataframe thead th {\n",
       "        text-align: right;\n",
       "    }\n",
       "</style>\n",
       "<table border=\"1\" class=\"dataframe\">\n",
       "  <thead>\n",
       "    <tr style=\"text-align: right;\">\n",
       "      <th></th>\n",
       "      <th>word</th>\n",
       "      <th>appears_in_pct_good</th>\n",
       "      <th>appears_in_pct_bad</th>\n",
       "      <th>pct_dff</th>\n",
       "      <th>pct_dff_abs</th>\n",
       "    </tr>\n",
       "  </thead>\n",
       "  <tbody>\n",
       "    <tr>\n",
       "      <th>2</th>\n",
       "      <td>not</td>\n",
       "      <td>0.356189</td>\n",
       "      <td>0.588076</td>\n",
       "      <td>-0.231887</td>\n",
       "      <td>0.231887</td>\n",
       "    </tr>\n",
       "    <tr>\n",
       "      <th>1</th>\n",
       "      <td>great</td>\n",
       "      <td>0.407980</td>\n",
       "      <td>0.235772</td>\n",
       "      <td>0.172208</td>\n",
       "      <td>0.172208</td>\n",
       "    </tr>\n",
       "    <tr>\n",
       "      <th>20</th>\n",
       "      <td>delicious</td>\n",
       "      <td>0.191857</td>\n",
       "      <td>0.056233</td>\n",
       "      <td>0.135624</td>\n",
       "      <td>0.135624</td>\n",
       "    </tr>\n",
       "    <tr>\n",
       "      <th>3</th>\n",
       "      <td>like</td>\n",
       "      <td>0.271661</td>\n",
       "      <td>0.401084</td>\n",
       "      <td>-0.129423</td>\n",
       "      <td>0.129423</td>\n",
       "    </tr>\n",
       "    <tr>\n",
       "      <th>19</th>\n",
       "      <td>order</td>\n",
       "      <td>0.165309</td>\n",
       "      <td>0.293360</td>\n",
       "      <td>-0.128051</td>\n",
       "      <td>0.128051</td>\n",
       "    </tr>\n",
       "    <tr>\n",
       "      <th>4</th>\n",
       "      <td>love</td>\n",
       "      <td>0.261889</td>\n",
       "      <td>0.142276</td>\n",
       "      <td>0.119613</td>\n",
       "      <td>0.119613</td>\n",
       "    </tr>\n",
       "    <tr>\n",
       "      <th>13</th>\n",
       "      <td>friendly</td>\n",
       "      <td>0.230945</td>\n",
       "      <td>0.122629</td>\n",
       "      <td>0.108316</td>\n",
       "      <td>0.108316</td>\n",
       "    </tr>\n",
       "    <tr>\n",
       "      <th>139</th>\n",
       "      <td>ask</td>\n",
       "      <td>0.050651</td>\n",
       "      <td>0.149051</td>\n",
       "      <td>-0.098400</td>\n",
       "      <td>0.098400</td>\n",
       "    </tr>\n",
       "    <tr>\n",
       "      <th>33</th>\n",
       "      <td>service</td>\n",
       "      <td>0.140391</td>\n",
       "      <td>0.234417</td>\n",
       "      <td>-0.094026</td>\n",
       "      <td>0.094026</td>\n",
       "    </tr>\n",
       "    <tr>\n",
       "      <th>212</th>\n",
       "      <td>bad</td>\n",
       "      <td>0.037785</td>\n",
       "      <td>0.128726</td>\n",
       "      <td>-0.090941</td>\n",
       "      <td>0.090941</td>\n",
       "    </tr>\n",
       "  </tbody>\n",
       "</table>\n",
       "</div>"
      ],
      "text/plain": [
       "          word  appears_in_pct_good  appears_in_pct_bad   pct_dff  pct_dff_abs\n",
       "2          not             0.356189            0.588076 -0.231887     0.231887\n",
       "1        great             0.407980            0.235772  0.172208     0.172208\n",
       "20   delicious             0.191857            0.056233  0.135624     0.135624\n",
       "3         like             0.271661            0.401084 -0.129423     0.129423\n",
       "19       order             0.165309            0.293360 -0.128051     0.128051\n",
       "4         love             0.261889            0.142276  0.119613     0.119613\n",
       "13    friendly             0.230945            0.122629  0.108316     0.108316\n",
       "139        ask             0.050651            0.149051 -0.098400     0.098400\n",
       "33     service             0.140391            0.234417 -0.094026     0.094026\n",
       "212        bad             0.037785            0.128726 -0.090941     0.090941"
      ]
     },
     "execution_count": 21,
     "metadata": {},
     "output_type": "execute_result"
    }
   ],
   "source": [
    "wc_diffs.sort_values('pct_dff_abs',ascending=False).head(10)"
   ]
  },
  {
   "cell_type": "code",
   "execution_count": 22,
   "metadata": {},
   "outputs": [
    {
     "data": {
      "image/png": "[encoded data removed]",
      "text/plain": [
       "<Figure size 432x288 with 1 Axes>"
      ]
     },
     "metadata": {
      "needs_background": "light"
     },
     "output_type": "display_data"
    }
   ],
   "source": [
    "wc_diffs_top20 = wc_diffs.sort_values('pct_dff_abs',ascending=False).head(20)\n",
    "\n",
    "squarify.plot(sizes=wc_diffs_top20['pct_dff_abs'], label=wc_diffs_top20['word'], alpha=.8 )\n",
    "plt.axis('off')\n",
    "plt.show()"
   ]
  },
  {
   "cell_type": "markdown",
   "metadata": {
    "colab_type": "text",
    "id": "1dCb1q8XphcP",
    "toc-hr-collapsed": true
   },
   "source": [
    "## Stretch Goals\n",
    "\n",
    "* Analyze another corpus of documents - such as Indeed.com job listings ;).\n",
    "* Play with the Spacy API to\n",
    " - Extract Named Entities\n",
    " - Extracting 'noun chunks'\n",
    " - Attempt Document Classification with just Spacy\n",
    " - *Note:* This [course](https://course.spacy.io/) will be of interesting in helping you with these stretch goals. \n",
    "* Try to build a plotly dash app with your text data \n",
    "\n"
   ]
  }
 ],
 "metadata": {
  "colab": {
   "collapsed_sections": [],
   "name": "LS_DS_421_Text_Data_Assignment.ipynb",
   "provenance": [],
   "version": "0.3.2"
  },
  "kernelspec": {
   "display_name": "U4-S1-NLP (Python3)",
   "language": "python",
   "name": "u4-s1-nlp"
  },
  "language_info": {
   "codemirror_mode": {
    "name": "ipython",
    "version": 3
   },
   "file_extension": ".py",
   "mimetype": "text/x-python",
   "name": "python",
   "nbconvert_exporter": "python",
   "pygments_lexer": "ipython3",
   "version": "3.7.0"
  },
  "toc-autonumbering": false
 },
 "nbformat": 4,
 "nbformat_minor": 4
}
